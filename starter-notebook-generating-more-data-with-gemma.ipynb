{
 "cells": [
  {
   "cell_type": "markdown",
   "id": "d30d3e19",
   "metadata": {},
   "source": [
    "#### Friday, March 1, 2024\n",
    "\n",
    "This notebook was run on Kaggle then downloaded here for reference purposes.\n",
    "\n",
    "[Starter Notebook: Generating More Data With Gemma](https://www.kaggle.com/code/wlifferth/starter-notebook-generating-more-data-with-gemma)"
   ]
  },
  {
   "cell_type": "markdown",
   "id": "164b9d29",
   "metadata": {
    "_cell_guid": "b1076dfc-b9ad-4769-8c92-a6c4dae69d19",
    "_uuid": "8f2839f25d086af736a60e9eeb907d3b93b6e0e5",
    "papermill": {
     "duration": 0.004089,
     "end_time": "2024-02-27T00:01:40.835757",
     "exception": false,
     "start_time": "2024-02-27T00:01:40.831668",
     "status": "completed"
    },
    "tags": []
   },
   "source": [
    "# Starter Notebook: Generating More Data With Gemma\n",
    "Our ultimate goal in this competition is to take an original sample of text and a new version of that text rewritten by Gemma, and to figure out what prompt was used to get the new version. A helpful first step is to be able to generate a bunch of examples of what that looks like, so we can then learn the relationships between the original text, rewrite prompt and rewritten text.\n",
    "\n",
    "To generate examples, we'll need a few things:\n",
    "1. A corpus of original texts\n",
    "2. A set of rewrite prompts\n",
    "3. Our model (Gemma!) to use the original text and rewrite prompt to generate a rewritten text\n",
    "\n",
    "Let's tackle them one by one."
   ]
  },
  {
   "cell_type": "markdown",
   "id": "64d2c551",
   "metadata": {
    "papermill": {
     "duration": 0.00335,
     "end_time": "2024-02-27T00:01:40.842892",
     "exception": false,
     "start_time": "2024-02-27T00:01:40.839542",
     "status": "completed"
    },
    "tags": []
   },
   "source": [
    "## Generating `original_text`\n",
    "While we don't know too much about the original text used in the competition test set,\n",
    "the meta-kaggle dataset provides a corpus of forum messages on kaggle that we can\n",
    "use as a simple example.\n"
   ]
  },
  {
   "cell_type": "code",
   "execution_count": 1,
   "id": "63ca1004",
   "metadata": {
    "execution": {
     "iopub.execute_input": "2024-02-27T00:01:40.851576Z",
     "iopub.status.busy": "2024-02-27T00:01:40.850996Z",
     "iopub.status.idle": "2024-02-27T00:02:05.615115Z",
     "shell.execute_reply": "2024-02-27T00:02:05.614191Z"
    },
    "papermill": {
     "duration": 24.770989,
     "end_time": "2024-02-27T00:02:05.617388",
     "exception": false,
     "start_time": "2024-02-27T00:01:40.846399",
     "status": "completed"
    },
    "tags": []
   },
   "outputs": [
    {
     "data": {
      "text/html": [
       "<div>\n",
       "<style scoped>\n",
       "    .dataframe tbody tr th:only-of-type {\n",
       "        vertical-align: middle;\n",
       "    }\n",
       "\n",
       "    .dataframe tbody tr th {\n",
       "        vertical-align: top;\n",
       "    }\n",
       "\n",
       "    .dataframe thead th {\n",
       "        text-align: right;\n",
       "    }\n",
       "</style>\n",
       "<table border=\"1\" class=\"dataframe\">\n",
       "  <thead>\n",
       "    <tr style=\"text-align: right;\">\n",
       "      <th></th>\n",
       "      <th>Id</th>\n",
       "      <th>ForumTopicId</th>\n",
       "      <th>PostUserId</th>\n",
       "      <th>PostDate</th>\n",
       "      <th>ReplyToForumMessageId</th>\n",
       "      <th>Message</th>\n",
       "      <th>Medal</th>\n",
       "      <th>MedalAwardDate</th>\n",
       "    </tr>\n",
       "  </thead>\n",
       "  <tbody>\n",
       "    <tr>\n",
       "      <th>0</th>\n",
       "      <td>653655</td>\n",
       "      <td>113090</td>\n",
       "      <td>1142262</td>\n",
       "      <td>10/20/2019 19:07:58</td>\n",
       "      <td>NaN</td>\n",
       "      <td>&lt;p&gt;Awesome EDA! \\nAll the insights make sense....</td>\n",
       "      <td>3.0</td>\n",
       "      <td>10/20/2019</td>\n",
       "    </tr>\n",
       "    <tr>\n",
       "      <th>1</th>\n",
       "      <td>653654</td>\n",
       "      <td>112341</td>\n",
       "      <td>2541293</td>\n",
       "      <td>10/20/2019 19:05:02</td>\n",
       "      <td>NaN</td>\n",
       "      <td>&lt;p&gt;HI,&lt;/p&gt;\\n\\n&lt;p&gt;Just a query. Not sure if it ...</td>\n",
       "      <td>3.0</td>\n",
       "      <td>11/05/2019</td>\n",
       "    </tr>\n",
       "    <tr>\n",
       "      <th>2</th>\n",
       "      <td>653653</td>\n",
       "      <td>101554</td>\n",
       "      <td>2566546</td>\n",
       "      <td>10/20/2019 19:03:14</td>\n",
       "      <td>NaN</td>\n",
       "      <td>&lt;p&gt;Thank you for sharing!!!👍 &lt;/p&gt;</td>\n",
       "      <td>NaN</td>\n",
       "      <td>NaN</td>\n",
       "    </tr>\n",
       "    <tr>\n",
       "      <th>3</th>\n",
       "      <td>653652</td>\n",
       "      <td>113114</td>\n",
       "      <td>3802444</td>\n",
       "      <td>10/20/2019 18:57:34</td>\n",
       "      <td>653317.0</td>\n",
       "      <td>&lt;p&gt;That makes sense! However, how might we det...</td>\n",
       "      <td>NaN</td>\n",
       "      <td>NaN</td>\n",
       "    </tr>\n",
       "    <tr>\n",
       "      <th>4</th>\n",
       "      <td>653651</td>\n",
       "      <td>108226</td>\n",
       "      <td>1192157</td>\n",
       "      <td>10/20/2019 18:57:06</td>\n",
       "      <td>622972.0</td>\n",
       "      <td>&lt;p&gt;Hi, even I am facing the same issue for the...</td>\n",
       "      <td>NaN</td>\n",
       "      <td>NaN</td>\n",
       "    </tr>\n",
       "  </tbody>\n",
       "</table>\n",
       "</div>"
      ],
      "text/plain": [
       "       Id  ForumTopicId  PostUserId             PostDate  \\\n",
       "0  653655        113090     1142262  10/20/2019 19:07:58   \n",
       "1  653654        112341     2541293  10/20/2019 19:05:02   \n",
       "2  653653        101554     2566546  10/20/2019 19:03:14   \n",
       "3  653652        113114     3802444  10/20/2019 18:57:34   \n",
       "4  653651        108226     1192157  10/20/2019 18:57:06   \n",
       "\n",
       "   ReplyToForumMessageId                                            Message  \\\n",
       "0                    NaN  <p>Awesome EDA! \\nAll the insights make sense....   \n",
       "1                    NaN  <p>HI,</p>\\n\\n<p>Just a query. Not sure if it ...   \n",
       "2                    NaN                  <p>Thank you for sharing!!!👍 </p>   \n",
       "3               653317.0  <p>That makes sense! However, how might we det...   \n",
       "4               622972.0  <p>Hi, even I am facing the same issue for the...   \n",
       "\n",
       "   Medal MedalAwardDate  \n",
       "0    3.0     10/20/2019  \n",
       "1    3.0     11/05/2019  \n",
       "2    NaN            NaN  \n",
       "3    NaN            NaN  \n",
       "4    NaN            NaN  "
      ]
     },
     "execution_count": 1,
     "metadata": {},
     "output_type": "execute_result"
    }
   ],
   "source": [
    "import pandas as pd\n",
    "\n",
    "forum_messsages_df = pd.read_csv('/kaggle/input/meta-kaggle/ForumMessages.csv')\n",
    "forum_messsages_df.head()"
   ]
  },
  {
   "cell_type": "code",
   "execution_count": 2,
   "id": "d2854bf5",
   "metadata": {
    "execution": {
     "iopub.execute_input": "2024-02-27T00:02:05.627975Z",
     "iopub.status.busy": "2024-02-27T00:02:05.627674Z",
     "iopub.status.idle": "2024-02-27T00:02:05.633053Z",
     "shell.execute_reply": "2024-02-27T00:02:05.632189Z"
    },
    "papermill": {
     "duration": 0.013056,
     "end_time": "2024-02-27T00:02:05.634999",
     "exception": false,
     "start_time": "2024-02-27T00:02:05.621943",
     "status": "completed"
    },
    "tags": []
   },
   "outputs": [],
   "source": [
    "# Let's grab the first 5 messages to test our generation pipeline:\n",
    "\n",
    "original_texts = forum_messsages_df['Message'][:5]"
   ]
  },
  {
   "cell_type": "markdown",
   "id": "8533b92b",
   "metadata": {
    "papermill": {
     "duration": 0.004063,
     "end_time": "2024-02-27T00:02:05.643328",
     "exception": false,
     "start_time": "2024-02-27T00:02:05.639265",
     "status": "completed"
    },
    "tags": []
   },
   "source": [
    "## Generating `rewrite_prompt`\n",
    "While there are lots of ways to come up with rewrite prompts, for simplicity here are a few random prompts we can use."
   ]
  },
  {
   "cell_type": "code",
   "execution_count": 3,
   "id": "dabf82cb",
   "metadata": {
    "execution": {
     "iopub.execute_input": "2024-02-27T00:02:05.655103Z",
     "iopub.status.busy": "2024-02-27T00:02:05.654108Z",
     "iopub.status.idle": "2024-02-27T00:02:05.659645Z",
     "shell.execute_reply": "2024-02-27T00:02:05.658578Z"
    },
    "papermill": {
     "duration": 0.013062,
     "end_time": "2024-02-27T00:02:05.661644",
     "exception": false,
     "start_time": "2024-02-27T00:02:05.648582",
     "status": "completed"
    },
    "tags": []
   },
   "outputs": [],
   "source": [
    "rewrite_prompts = [\n",
    "    'Explain this to me like I\\'m five.',\n",
    "    'Convert this into a sea shanty.',\n",
    "    'Make this rhyme.',\n",
    "]"
   ]
  },
  {
   "cell_type": "markdown",
   "id": "f422338e",
   "metadata": {
    "papermill": {
     "duration": 0.003693,
     "end_time": "2024-02-27T00:02:05.669444",
     "exception": false,
     "start_time": "2024-02-27T00:02:05.665751",
     "status": "completed"
    },
    "tags": []
   },
   "source": [
    "## Generating `rewritten_text` with Gemma\n",
    "Now for the fun part! We can use gemma to rewrite our original text samples\n",
    "using the rewrite prompts we created.\n",
    "The code in this cell is borrowed from [the model card](https://www.kaggle.com/models/google/gemma/frameworks/pyTorch/variations/7b-it-quant).\n",
    "The important things to know:\n",
    "\n",
    "We're using the 7B parameter instruction tuned quantized model, which means:\n",
    "\n",
    "- 7B Parameter: this is the larger of the two Gemma models (the other has 2 billion parameters).\n",
    "    In general we expect the larger model to perform better on complex tasks, but\n",
    "    it's more resource intensive. You can see exactly how Gemma 7B compares to to Gemma 2B [here](https://ai.google.dev/gemma).\n",
    "- Instruction Tuned: instruction tuning is an extra training step that results in a model that\n",
    "    can follow user instructions better. Our rewrite prompt is a kind of instruction, so this is what we want!\n",
    "- Quantized: quantization is a way of shrinking the size of a model by reducing the precision of each\n",
    "    parameter; so while our model still has 7 billion parameters, it's easier to run on limited\n",
    "    hardware.\n",
    "\n",
    "At the end of this cell, we'll have a `model` we can call `generate` on with a specially formatted prompt."
   ]
  },
  {
   "cell_type": "code",
   "execution_count": 4,
   "id": "83c3871b",
   "metadata": {
    "execution": {
     "iopub.execute_input": "2024-02-27T00:02:05.678350Z",
     "iopub.status.busy": "2024-02-27T00:02:05.678078Z",
     "iopub.status.idle": "2024-02-27T00:03:29.268583Z",
     "shell.execute_reply": "2024-02-27T00:03:29.267589Z"
    },
    "papermill": {
     "duration": 83.597762,
     "end_time": "2024-02-27T00:03:29.271078",
     "exception": false,
     "start_time": "2024-02-27T00:02:05.673316",
     "status": "completed"
    },
    "tags": []
   },
   "outputs": [
    {
     "name": "stdout",
     "output_type": "stream",
     "text": [
      "Cloning into 'gemma_pytorch'...\r\n",
      "remote: Enumerating objects: 71, done.\u001b[K\r\n",
      "remote: Counting objects: 100% (16/16), done.\u001b[K\r\n",
      "remote: Compressing objects: 100% (8/8), done.\u001b[K\r\n",
      "remote: Total 71 (delta 12), reused 8 (delta 8), pack-reused 55\u001b[K\r\n",
      "Unpacking objects: 100% (71/71), 2.13 MiB | 5.60 MiB/s, done.\r\n"
     ]
    },
    {
     "name": "stderr",
     "output_type": "stream",
     "text": [
      "/opt/conda/lib/python3.10/site-packages/torch/_utils.py:831: UserWarning: TypedStorage is deprecated. It will be removed in the future and UntypedStorage will be the only storage class. This should only matter to you if you are using storages directly.  To access UntypedStorage directly, use tensor.untyped_storage() instead of tensor.storage()\n",
      "  return self.fget.__get__(instance, owner)()\n"
     ]
    }
   ],
   "source": [
    "!pip install -q -U immutabledict sentencepiece \n",
    "!git clone https://github.com/google/gemma_pytorch.git\n",
    "!mkdir /kaggle/working/gemma/\n",
    "!mv /kaggle/working/gemma_pytorch/gemma/* /kaggle/working/gemma/\n",
    "\n",
    "import sys \n",
    "sys.path.append(\"/kaggle/working/gemma_pytorch/\") \n",
    "from gemma.config import GemmaConfig, get_config_for_7b, get_config_for_2b\n",
    "from gemma.model import GemmaForCausalLM\n",
    "from gemma.tokenizer import Tokenizer\n",
    "import contextlib\n",
    "import os\n",
    "import torch\n",
    "\n",
    "# Load the model\n",
    "VARIANT = \"7b-it-quant\" \n",
    "MACHINE_TYPE = \"cuda\" \n",
    "weights_dir = '/kaggle/input/gemma/pytorch/7b-it-quant/2' \n",
    "\n",
    "@contextlib.contextmanager\n",
    "def _set_default_tensor_type(dtype: torch.dtype):\n",
    "  \"\"\"Sets the default torch dtype to the given dtype.\"\"\"\n",
    "  torch.set_default_dtype(dtype)\n",
    "  yield\n",
    "  torch.set_default_dtype(torch.float)\n",
    "\n",
    "# Model Config.\n",
    "model_config = get_config_for_2b() if \"2b\" in VARIANT else get_config_for_7b()\n",
    "model_config.tokenizer = os.path.join(weights_dir, \"tokenizer.model\")\n",
    "model_config.quant = \"quant\" in VARIANT\n",
    "\n",
    "# Model.\n",
    "device = torch.device(MACHINE_TYPE)\n",
    "with _set_default_tensor_type(model_config.get_dtype()):\n",
    "  model = GemmaForCausalLM(model_config)\n",
    "  ckpt_path = os.path.join(weights_dir, f'gemma-{VARIANT}.ckpt')\n",
    "  model.load_weights(ckpt_path)\n",
    "  model = model.to(device).eval()\n"
   ]
  },
  {
   "cell_type": "code",
   "execution_count": 5,
   "id": "ab8cb78d",
   "metadata": {
    "execution": {
     "iopub.execute_input": "2024-02-27T00:03:29.282402Z",
     "iopub.status.busy": "2024-02-27T00:03:29.281919Z",
     "iopub.status.idle": "2024-02-27T00:06:57.403308Z",
     "shell.execute_reply": "2024-02-27T00:06:57.402295Z"
    },
    "papermill": {
     "duration": 208.129781,
     "end_time": "2024-02-27T00:06:57.405896",
     "exception": false,
     "start_time": "2024-02-27T00:03:29.276115",
     "status": "completed"
    },
    "tags": []
   },
   "outputs": [],
   "source": [
    "# Now we can loop through our input texts, randomly select a rewrite prompt, and see Gemma in action:\n",
    "\n",
    "import random\n",
    "random.seed(0)\n",
    "# This is the prompt format the model expects\n",
    "USER_CHAT_TEMPLATE = \"<start_of_turn>user\\n{prompt}<end_of_turn>\\n<start_of_turn>model\\n\"\n",
    "\n",
    "rewrite_data = []\n",
    "\n",
    "for original_text in original_texts:\n",
    "    rewrite_prompt = random.choice(rewrite_prompts)\n",
    "    prompt = f'{rewrite_prompt}\\n{original_text}'\n",
    "    rewritten_text = model.generate(\n",
    "        USER_CHAT_TEMPLATE.format(prompt=prompt),\n",
    "        device=device,\n",
    "        output_len=100,\n",
    "    )\n",
    "    rewrite_data.append({\n",
    "        'original_text': original_text,\n",
    "        'rewrite_prompt': rewrite_prompt,\n",
    "        'rewritten_text': rewritten_text,\n",
    "    })\n",
    "    "
   ]
  },
  {
   "cell_type": "code",
   "execution_count": 6,
   "id": "37ed3df4",
   "metadata": {
    "execution": {
     "iopub.execute_input": "2024-02-27T00:06:57.419099Z",
     "iopub.status.busy": "2024-02-27T00:06:57.418757Z",
     "iopub.status.idle": "2024-02-27T00:06:57.427371Z",
     "shell.execute_reply": "2024-02-27T00:06:57.426390Z"
    },
    "papermill": {
     "duration": 0.017985,
     "end_time": "2024-02-27T00:06:57.429758",
     "exception": false,
     "start_time": "2024-02-27T00:06:57.411773",
     "status": "completed"
    },
    "tags": []
   },
   "outputs": [
    {
     "data": {
      "text/plain": [
       "array([['<p>Awesome EDA! \\nAll the insights make sense. Very well put! I recommend this as a pretty good notebook for starters! Thank you :)</p>',\n",
       "        'Convert this into a sea shanty.',\n",
       "        \"Sure, here's the converted sea shanty:\\n\\n(Verse 1)\\nAvast ye, me hearties, listen to me tale,\\nOf a notebook that's a pleasure to hail.\\nThe EDA's awesomeness, a sight to behold,\\nWith insights that make sense, tales to be told.\\n\\n(Chorus)\\nOh, the notebook's a treasure to behold,\\nWith well-put ideas to make the mind fold.\\nAvast ye\"]],\n",
       "      dtype=object)"
      ]
     },
     "execution_count": 6,
     "metadata": {},
     "output_type": "execute_result"
    }
   ],
   "source": [
    "# Let's turn our generated data into a dataframe, and spot check the first rewrite to see if it makes sense.\n",
    "rewrite_data_df = pd.DataFrame(rewrite_data)\n",
    "rewrite_data_df[:1].values"
   ]
  },
  {
   "cell_type": "markdown",
   "id": "93b94a51",
   "metadata": {
    "papermill": {
     "duration": 0.005345,
     "end_time": "2024-02-27T00:06:57.440636",
     "exception": false,
     "start_time": "2024-02-27T00:06:57.435291",
     "status": "completed"
    },
    "tags": []
   },
   "source": [
    "# Next Steps\n",
    "\n",
    "Huzzah! We have a dataset with original texts, rewrite prompts, and rewritten text. Here are a couple of suggestions of next steps you could take to generate a larger, more diverse dataset:\n",
    "1. Add more original text data sources; besides just using all of the forum messages (instead of just the first 5), Kaggle has tons of datasets that would make reasonable input text. Here are few random datasets you could use:\n",
    "    - The `Plot` column from the [Wikipedia Movie Plots dataset](https://www.kaggle.com/datasets/jrobischon/wikipedia-movie-plots).\n",
    "    - The `text` column from the [Emotions dataset](https://www.kaggle.com/datasets/nelgiriyewithana/emotions).\n",
    "    - The `body_text` and `abstract` columns of the [Wikibooks Dataset](https://www.kaggle.com/datasets/dhruvildave/wikibooks-dataset).\n",
    "    \n",
    "    Note that each of these may need different preprocessing; for example, Gemma has a context length of 8192 tokens, so if the text is long, you'll need to truncate it.\n",
    "2. Use gemma to generate original text.\n",
    "3. Expand the list of rewrite prompts. You can come up with them manually, or explore having Gemma write rewrite prompts.\n",
    "4. Play around with the generation of `rewritten_text`:\n",
    "   - How does changing `output_len` affect the length and quality of rewrites?\n",
    "   - Do rewrites with the 2B parameter model differ substantially from the 7B model?\n",
    "   - Can you use [few shot prompting](https://www.promptingguide.ai/techniques/fewshot) to get higher quality rewrites?"
   ]
  },
  {
   "cell_type": "code",
   "execution_count": null,
   "id": "f18af3c3",
   "metadata": {
    "papermill": {
     "duration": 0.00533,
     "end_time": "2024-02-27T00:06:57.451546",
     "exception": false,
     "start_time": "2024-02-27T00:06:57.446216",
     "status": "completed"
    },
    "tags": []
   },
   "outputs": [],
   "source": []
  }
 ],
 "metadata": {
  "kaggle": {
   "accelerator": "gpu",
   "dataSources": [
    {
     "databundleVersionId": 7806901,
     "sourceId": 67121,
     "sourceType": "competition"
    },
    {
     "datasetId": 9,
     "sourceId": 7701220,
     "sourceType": "datasetVersion"
    },
    {
     "isSourceIdPinned": true,
     "modelInstanceId": 8749,
     "sourceId": 11359,
     "sourceType": "modelInstanceVersion"
    }
   ],
   "dockerImageVersionId": 30648,
   "isGpuEnabled": true,
   "isInternetEnabled": true,
   "language": "python",
   "sourceType": "notebook"
  },
  "kernelspec": {
   "display_name": "Python 3",
   "language": "python",
   "name": "python3"
  },
  "language_info": {
   "codemirror_mode": {
    "name": "ipython",
    "version": 3
   },
   "file_extension": ".py",
   "mimetype": "text/x-python",
   "name": "python",
   "nbconvert_exporter": "python",
   "pygments_lexer": "ipython3",
   "version": "3.10.13"
  },
  "papermill": {
   "default_parameters": {},
   "duration": 322.251622,
   "end_time": "2024-02-27T00:07:00.419219",
   "environment_variables": {},
   "exception": null,
   "input_path": "__notebook__.ipynb",
   "output_path": "__notebook__.ipynb",
   "parameters": {},
   "start_time": "2024-02-27T00:01:38.167597",
   "version": "2.5.0"
  }
 },
 "nbformat": 4,
 "nbformat_minor": 5
}
